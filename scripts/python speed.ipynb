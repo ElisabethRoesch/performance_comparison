{
 "cells": [
  {
   "cell_type": "code",
   "execution_count": 15,
   "metadata": {},
   "outputs": [
    {
     "name": "stdout",
     "output_type": "stream",
     "text": [
      "4.1178343296051025\n"
     ]
    }
   ],
   "source": [
    "# Test 1.1: Cumulative addition - once\n",
    "import time\n",
    "a = 0.\n",
    "n_additions = 100000000\n",
    "def speedtest(r, n_additions):\n",
    "    for i in range(1,n_additions):\n",
    "        r=r+1\n",
    "#   print(r)\n",
    "start = time.time()\n",
    "speedtest(a, n_additions)\n",
    "end = time.time()\n",
    "t_1_1 = end - start\n",
    "print(t_1_1)"
   ]
  },
  {
   "cell_type": "code",
   "execution_count": 16,
   "metadata": {},
   "outputs": [
    {
     "name": "stdout",
     "output_type": "stream",
     "text": [
      "4.078006982803345\n"
     ]
    }
   ],
   "source": [
    "# Test 1.2: Cumulative addition - multiple and average\n",
    "a = 0.\n",
    "n_runs = 10\n",
    "def speedtests(r, n_runs, n_additions):\n",
    "    for j in range(n_runs):\n",
    "        speedtest(r, n_additions)\n",
    "start = time.time()\n",
    "speedtests(a, n_runs, n_additions)\n",
    "end = time.time()\n",
    "t = end - start\n",
    "t_1_2 = t /n_runs\n",
    "print(t_1_2)"
   ]
  },
  {
   "cell_type": "code",
   "execution_count": 17,
   "metadata": {},
   "outputs": [],
   "source": [
    "# Test 1.3: Cumulative addition - multiple \n",
    "n_runs_arr = [1,10,20,40,80]\n",
    "\n",
    "start = time.time()\n",
    "speedtests(0.0, n_runs_arr[1], n_additions)\n",
    "end = time.time()\n",
    "t = end - start\n",
    "t_1_3_a = t\n",
    "\n",
    "start = time.time()\n",
    "speedtests(0.0, n_runs_arr[2], n_additions)\n",
    "end = time.time()\n",
    "t = end - start\n",
    "t_1_3_b = t  \n",
    "\n",
    "start = time.time()\n",
    "speedtests(0.0, n_runs_arr[3], n_additions)\n",
    "end = time.time()\n",
    "t = end - start\n",
    "t_1_3_c = t \n",
    "\n",
    "start = time.time()\n",
    "speedtests(0.0, n_runs_arr[4], n_additions)\n",
    "end = time.time()\n",
    "t = end - start\n",
    "t_1_3_d = t \n",
    "\n",
    "t_1_3 = [t_1_3_a, t_1_3_b, t_1_3_c, t_1_3_d]"
   ]
  },
  {
   "cell_type": "code",
   "execution_count": null,
   "metadata": {},
   "outputs": [],
   "source": [
    "# Test 2.1: Appending array\n",
    "a_arr = []\n",
    "n_appends = 100000000\n",
    "def speedtest_app(r_arr, n_appends):\n",
    "    for j in range(n_appends):\n",
    "        a_arr.append(1)    \n",
    "#    print(r_arr) \n",
    "start = time.time()\n",
    "speedtest_app(a_arr, n_appends)\n",
    "end = time.time()\n",
    "t_2_1 = end - start\n",
    "print(t_2_1)"
   ]
  },
  {
   "cell_type": "code",
   "execution_count": null,
   "metadata": {},
   "outputs": [],
   "source": [
    "# Test 3.1: Sorting array\n",
    "import numpy as np,time\n",
    "length = 100000000\n",
    "b_arr = np.random.rand(length)\n",
    "start = time.time()\n",
    "b_arr.sort()\n",
    "end = time.time()\n",
    "t_3_1 = end - start\n",
    "print(t_3_1)"
   ]
  },
  {
   "cell_type": "code",
   "execution_count": null,
   "metadata": {},
   "outputs": [],
   "source": [
    "t_all = [t_1_1, t_1_2, t_2_1, t_3_1]"
   ]
  },
  {
   "cell_type": "code",
   "execution_count": null,
   "metadata": {},
   "outputs": [],
   "source": [
    "print(t_all)"
   ]
  },
  {
   "cell_type": "code",
   "execution_count": 19,
   "metadata": {},
   "outputs": [],
   "source": [
    "np.savetxt('data/python_times.txt', t_all)\n",
    "np.savetxt('data/python_times_t_1_details.txt', t_1_3)"
   ]
  },
  {
   "cell_type": "code",
   "execution_count": null,
   "metadata": {},
   "outputs": [],
   "source": []
  }
 ],
 "metadata": {
  "@webio": {
   "lastCommId": null,
   "lastKernelId": null
  },
  "kernelspec": {
   "display_name": "Python 3",
   "language": "python",
   "name": "python3"
  },
  "language_info": {
   "codemirror_mode": {
    "name": "ipython",
    "version": 3
   },
   "file_extension": ".py",
   "mimetype": "text/x-python",
   "name": "python",
   "nbconvert_exporter": "python",
   "pygments_lexer": "ipython3",
   "version": "3.8.2"
  }
 },
 "nbformat": 4,
 "nbformat_minor": 4
}
