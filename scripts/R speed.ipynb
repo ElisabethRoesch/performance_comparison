{
 "cells": [
  {
   "cell_type": "code",
   "execution_count": 29,
   "metadata": {},
   "outputs": [
    {
     "name": "stdout",
     "output_type": "stream",
     "text": [
      "Time difference of 1.588342 secs\n"
     ]
    }
   ],
   "source": [
    "# Test 1.1: Cumulative addition - once\n",
    "a = 0.\n",
    "n_additions = 100000000\n",
    "speedtest <- function(r, n_additions){\n",
    "    for (val in 1:n_additions)\n",
    "        {\n",
    "            r=r+1\n",
    "        }\n",
    "#   print(r)\n",
    "}\n",
    "start_time <- Sys.time()\n",
    "speedtest(a, n_additions)\n",
    "end_time <- Sys.time()\n",
    "t_1_1 = end_time - start_time\n",
    "print(t_1_1)"
   ]
  },
  {
   "cell_type": "code",
   "execution_count": 30,
   "metadata": {},
   "outputs": [
    {
     "data": {
      "text/plain": [
       "Time difference of 1.629244 secs"
      ]
     },
     "metadata": {},
     "output_type": "display_data"
    }
   ],
   "source": [
    "# Test 1.2: Cumulative addition - multiple and average\n",
    "a = 0.\n",
    "n_runs = 10\n",
    "speedtests <- function(r, n_runs, n_additions){\n",
    "    for (j in 1:n_runs){\n",
    "        speedtest(a, n_additions)\n",
    "    }\n",
    "}\n",
    "start_time <- Sys.time()\n",
    "speedtests(a, n_runs, n_additions)\n",
    "end_time <- Sys.time()\n",
    "time = end_time - start_time\n",
    "t_1_2 = time/n_runs\n",
    "t_1_2 "
   ]
  },
  {
   "cell_type": "code",
   "execution_count": 33,
   "metadata": {},
   "outputs": [],
   "source": [
    "# Test 1.3: Cumulative addition - multiple \n",
    "n_runs_arr = c(1,10,20,40,80)\n",
    "\n",
    "start_time <- Sys.time()\n",
    "speedtests(a, n_runs_arr[1], n_additions)\n",
    "end_time <- Sys.time()\n",
    "time = end_time - start_time\n",
    "t_1_3_a = time\n",
    "\n",
    "start_time <- Sys.time()\n",
    "speedtests(a, n_runs_arr[2], n_additions)\n",
    "end_time <- Sys.time()\n",
    "time = end_time - start_time\n",
    "t_1_3_b = time\n",
    "\n",
    "start_time <- Sys.time()\n",
    "speedtests(a, n_runs_arr[3], n_additions)\n",
    "end_time <- Sys.time()\n",
    "time = end_time - start_time\n",
    "t_1_3_c = time\n",
    "\n",
    "start_time <- Sys.time()\n",
    "speedtests(a, n_runs_arr[4], n_additions)\n",
    "end_time <- Sys.time()\n",
    "time = end_time - start_time\n",
    "t_1_3_d = time\n",
    "\n",
    "t_1_3 = c(t_1_3_a, t_1_3_b, t_1_3_c, t_1_3_d)"
   ]
  },
  {
   "cell_type": "code",
   "execution_count": 34,
   "metadata": {},
   "outputs": [
    {
     "name": "stdout",
     "output_type": "stream",
     "text": [
      "Time difference of 28.37206 secs\n"
     ]
    }
   ],
   "source": [
    "# Test 2.1: Appending array\n",
    "a_arr <- vector()\n",
    "n_appends = 100000000\n",
    "speedtest_app <- function(r_arr, n_appends){\n",
    "    for (j in 1:n_appends){\n",
    "        r_arr[j] <- 1   \n",
    "    }\n",
    "#     print(r_arr)\n",
    "}\n",
    "   \n",
    "start_time <- Sys.time()\n",
    "speedtest_app(a_arr, n_appends)\n",
    "end_time <- Sys.time()\n",
    "t_2_1 = end_time - start_time\n",
    "print(t_2_1)"
   ]
  },
  {
   "cell_type": "code",
   "execution_count": 35,
   "metadata": {},
   "outputs": [
    {
     "name": "stdout",
     "output_type": "stream",
     "text": [
      "Time difference of 12.53544 secs\n"
     ]
    }
   ],
   "source": [
    "# Test 3.1: Sorting array\n",
    "length = 100000000\n",
    "b_arr <- runif(length);\n",
    " # between 0 and 1\n",
    "start_time <- Sys.time()\n",
    "s = sort(b_arr);\n",
    "end_time <- Sys.time()\n",
    "t_3_1 = end_time - start_time\n",
    "print(t_3_1)"
   ]
  },
  {
   "cell_type": "code",
   "execution_count": 36,
   "metadata": {},
   "outputs": [],
   "source": [
    "t_all = c(t_1_1, t_1_2, t_2_1, t_3_1)"
   ]
  },
  {
   "cell_type": "code",
   "execution_count": 37,
   "metadata": {},
   "outputs": [],
   "source": [
    "write.table(t_all, file=\"data/r_times.txt\", row.names=FALSE, col.names=FALSE)\n",
    "write.table(t_1_3, file=\"data/r_times_t_1_details.txt\", row.names=FALSE, col.names=FALSE)"
   ]
  },
  {
   "cell_type": "code",
   "execution_count": null,
   "metadata": {},
   "outputs": [],
   "source": []
  }
 ],
 "metadata": {
  "@webio": {
   "lastCommId": null,
   "lastKernelId": null
  },
  "kernelspec": {
   "display_name": "R",
   "language": "R",
   "name": "ir"
  },
  "language_info": {
   "codemirror_mode": "r",
   "file_extension": ".r",
   "mimetype": "text/x-r-source",
   "name": "R",
   "pygments_lexer": "r",
   "version": "3.6.1"
  }
 },
 "nbformat": 4,
 "nbformat_minor": 4
}
