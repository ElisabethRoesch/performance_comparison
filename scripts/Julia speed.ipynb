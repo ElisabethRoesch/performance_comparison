{
 "cells": [
  {
   "cell_type": "code",
   "execution_count": 1,
   "metadata": {},
   "outputs": [
    {
     "data": {
      "text/plain": [
       "0.005164913"
      ]
     },
     "execution_count": 1,
     "metadata": {},
     "output_type": "execute_result"
    }
   ],
   "source": [
    "# Test 1.1: Cumulative addition - once\n",
    "a = 0.\n",
    "n_additions = 100000000\n",
    "function speedtest_add(r, n_additions)\n",
    "    for i in 1:n_additions\n",
    "        r+=1\n",
    "    end\n",
    "#    print(r) \n",
    "end\n",
    "t_1_1 = @elapsed speedtest_add(a, n_additions)"
   ]
  },
  {
   "cell_type": "code",
   "execution_count": 2,
   "metadata": {},
   "outputs": [
    {
     "data": {
      "text/plain": [
       "6.733163999999999e-11"
      ]
     },
     "execution_count": 2,
     "metadata": {},
     "output_type": "execute_result"
    }
   ],
   "source": [
    "# Test 1.2: Cumulative addition - multiple and average\n",
    "n_runs = 100000000\n",
    "a = 0.\n",
    "function speedtests_add(r, n_runs, n_additions)\n",
    "    for j in 1:n_runs\n",
    "        speedtest_add(r, n_additions)\n",
    "    end\n",
    "    return nothing\n",
    "end\n",
    "t_1_2 = (@elapsed speedtests_add(a, n_runs, n_additions))/n_runs"
   ]
  },
  {
   "cell_type": "code",
   "execution_count": 3,
   "metadata": {},
   "outputs": [
    {
     "data": {
      "text/plain": [
       "3.648506736"
      ]
     },
     "execution_count": 3,
     "metadata": {},
     "output_type": "execute_result"
    }
   ],
   "source": [
    "# Test 2.1: Appending array\n",
    "a_arr = []\n",
    "n_appends = 100000000\n",
    "function speedtest_app(r_arr, n_appends)\n",
    "    for i in 1:n_appends\n",
    "        push!(r_arr, 1)\n",
    "    end\n",
    "#     print(r_arr) \n",
    "end\n",
    "t_2_1 = @elapsed speedtest_app(a_arr, n_appends)"
   ]
  },
  {
   "cell_type": "code",
   "execution_count": 4,
   "metadata": {},
   "outputs": [
    {
     "data": {
      "text/plain": [
       "0.910690156"
      ]
     },
     "execution_count": 4,
     "metadata": {},
     "output_type": "execute_result"
    }
   ],
   "source": [
    "# Test 3.1: Sorting array\n",
    "length = 10000000\n",
    "b_arr = rand(length) # between 0 and 1\n",
    "function sort_arr(r_arr)\n",
    "    sort(r_arr)\n",
    "    return nothing\n",
    "end\n",
    "t_3_1 = @elapsed sort_arr(b_arr)"
   ]
  },
  {
   "cell_type": "code",
   "execution_count": 5,
   "metadata": {},
   "outputs": [
    {
     "data": {
      "text/plain": [
       "4-element Array{Float64,1}:\n",
       " 0.005164913\n",
       " 6.733163999999999e-11\n",
       " 3.648506736\n",
       " 0.910690156"
      ]
     },
     "execution_count": 5,
     "metadata": {},
     "output_type": "execute_result"
    }
   ],
   "source": [
    "t_all = [t_1_1, t_1_2, t_2_1, t_3_1]"
   ]
  },
  {
   "cell_type": "code",
   "execution_count": 19,
   "metadata": {},
   "outputs": [],
   "source": [
    "using DelimitedFiles\n",
    "writedlm(\"data/julia_times.txt\", t_all)\n",
    "# a = readdlm(\"test\")[1,:]"
   ]
  },
  {
   "cell_type": "code",
   "execution_count": null,
   "metadata": {},
   "outputs": [],
   "source": []
  }
 ],
 "metadata": {
  "@webio": {
   "lastCommId": null,
   "lastKernelId": null
  },
  "kernelspec": {
   "display_name": "Julia 1.4.0",
   "language": "julia",
   "name": "julia-1.4"
  },
  "language_info": {
   "file_extension": ".jl",
   "mimetype": "application/julia",
   "name": "julia",
   "version": "1.4.2"
  }
 },
 "nbformat": 4,
 "nbformat_minor": 4
}
