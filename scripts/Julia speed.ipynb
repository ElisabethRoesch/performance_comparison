{
 "cells": [
  {
   "cell_type": "code",
   "execution_count": 14,
   "metadata": {},
   "outputs": [
    {
     "name": "stdout",
     "output_type": "stream",
     "text": [
      "  0.004674 seconds (15.90 k allocations: 867.369 KiB)\n"
     ]
    }
   ],
   "source": [
    "# Test 1.1: Cumulative addition - once\n",
    "a = 0.\n",
    "n_additions = 100000000\n",
    "function speedtest_add(r, n_additions)\n",
    "    for i in 1:n_additions\n",
    "        r+=1\n",
    "    end\n",
    "#    print(r) \n",
    "end\n",
    "@time speedtest_add(a, n_additions)"
   ]
  },
  {
   "cell_type": "code",
   "execution_count": 15,
   "metadata": {},
   "outputs": [
    {
     "name": "stdout",
     "output_type": "stream",
     "text": [
      "  0.005106 seconds (17.37 k allocations: 929.838 KiB)\n"
     ]
    }
   ],
   "source": [
    "# Test 1.2: Cumulative addition - multiple and average\n",
    "n_runs = 10\n",
    "a = 0.\n",
    "function speedtests_add(r, n_runs, n_additions)\n",
    "    for j in 1:n_runs\n",
    "        speedtest_add(r, n_additions)\n",
    "    end\n",
    "#    return r\n",
    "end\n",
    "@time speedtests_add(a, n_runs, n_additions)"
   ]
  },
  {
   "cell_type": "code",
   "execution_count": 28,
   "metadata": {},
   "outputs": [
    {
     "name": "stdout",
     "output_type": "stream",
     "text": [
      "  3.190702 seconds (18.62 k allocations: 913.327 MiB, 7.08% gc time)\n"
     ]
    }
   ],
   "source": [
    "# Test 2.1: Appending array\n",
    "a_arr = []\n",
    "n_appends = 100000000\n",
    "function speedtest_app(r_arr, n_appends)\n",
    "    for i in 1:n_appends\n",
    "        push!(r_arr, 1)\n",
    "    end\n",
    "#     print(r_arr) \n",
    "end\n",
    "@time speedtest_app(a_arr, n_appends)"
   ]
  },
  {
   "cell_type": "code",
   "execution_count": 4,
   "metadata": {},
   "outputs": [
    {
     "name": "stdout",
     "output_type": "stream",
     "text": [
      "  0.905029 seconds (2 allocations: 76.294 MiB, 7.97% gc time)\n"
     ]
    }
   ],
   "source": [
    "# Test 3.1: Sorting array\n",
    "length = 10000000\n",
    "b_arr = rand(length) # between 0 and 1\n",
    "@time sort(b_arr);"
   ]
  },
  {
   "cell_type": "code",
   "execution_count": 19,
   "metadata": {},
   "outputs": [],
   "source": [
    "mutable struct protein_complex\n",
    "    n_peptides::Int8     \n",
    "    on_membran::Bool      \n",
    "    interacting_proteins::Array{Float64,1}\n",
    "    protein_family::String\n",
    "end"
   ]
  },
  {
   "cell_type": "code",
   "execution_count": null,
   "metadata": {},
   "outputs": [],
   "source": []
  }
 ],
 "metadata": {
  "@webio": {
   "lastCommId": null,
   "lastKernelId": null
  },
  "kernelspec": {
   "display_name": "Julia 1.4.0",
   "language": "julia",
   "name": "julia-1.4"
  },
  "language_info": {
   "file_extension": ".jl",
   "mimetype": "application/julia",
   "name": "julia",
   "version": "1.4.2"
  }
 },
 "nbformat": 4,
 "nbformat_minor": 4
}
