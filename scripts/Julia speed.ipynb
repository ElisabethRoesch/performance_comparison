{
 "cells": [
  {
   "cell_type": "code",
   "execution_count": 53,
   "metadata": {},
   "outputs": [
    {
     "data": {
      "text/plain": [
       "0.016210823"
      ]
     },
     "execution_count": 53,
     "metadata": {},
     "output_type": "execute_result"
    }
   ],
   "source": [
    "# Test 1.1: Cumulative addition - once\n",
    "a = 0.0\n",
    "n_additions = 100000000\n",
    "function speedtest_add(r, n_additions)\n",
    "    for i in 1:n_additions\n",
    "        r=r+1\n",
    "    end\n",
    "end\n",
    "t_1_1 = @elapsed speedtest_add(a, n_additions)"
   ]
  },
  {
   "cell_type": "code",
   "execution_count": 78,
   "metadata": {},
   "outputs": [
    {
     "data": {
      "text/plain": [
       "8.64698e-11"
      ]
     },
     "execution_count": 78,
     "metadata": {},
     "output_type": "execute_result"
    }
   ],
   "source": [
    "# Test 1.2: Cumulative addition - multiple and average\n",
    "n_runs = 100000000\n",
    "a = 0.0\n",
    "function speedtests_add(r, n_runs, n_additions)\n",
    "    for j in 1:n_runs\n",
    "        speedtest_add(r, n_additions)\n",
    "    end\n",
    "end\n",
    "t_1_2 = (@elapsed speedtests_add(a, n_runs, n_additions))/n_runs"
   ]
  },
  {
   "cell_type": "code",
   "execution_count": 51,
   "metadata": {},
   "outputs": [
    {
     "data": {
      "text/plain": [
       "4-element Array{Float64,1}:\n",
       " 4.335e-6\n",
       " 4.632e-6\n",
       " 4.029e-6\n",
       " 4.051e-6"
      ]
     },
     "execution_count": 51,
     "metadata": {},
     "output_type": "execute_result"
    }
   ],
   "source": [
    "# Test 1.3: Cumulative addition - multiple \n",
    "n_runs_arr = [1,10,20,40,80]\n",
    "t_1_3_a = (@elapsed speedtests_add(0., n_runs_arr[1], n_additions))\n",
    "t_1_3_b = (@elapsed speedtests_add(0., n_runs_arr[2], n_additions)) \n",
    "t_1_3_c = (@elapsed speedtests_add(0., n_runs_arr[3], n_additions)) \n",
    "t_1_3_d = (@elapsed speedtests_add(0., n_runs_arr[4], n_additions)) \n",
    "t_1_3 = [t_1_3_a, t_1_3_b, t_1_3_c, t_1_3_d]"
   ]
  },
  {
   "cell_type": "code",
   "execution_count": 22,
   "metadata": {},
   "outputs": [
    {
     "data": {
      "text/plain": [
       "3.227255398"
      ]
     },
     "execution_count": 22,
     "metadata": {},
     "output_type": "execute_result"
    }
   ],
   "source": [
    "# Test 2.1: Appending array\n",
    "a_arr = []\n",
    "n_appends = 100000000\n",
    "function speedtest_app(r_arr, n_appends)\n",
    "    for i in 1:n_appends\n",
    "        push!(r_arr, 1)\n",
    "    end\n",
    "#     print(r_arr) \n",
    "end\n",
    "t_2_1 = @elapsed speedtest_app(a_arr, n_appends)"
   ]
  },
  {
   "cell_type": "code",
   "execution_count": 23,
   "metadata": {},
   "outputs": [
    {
     "data": {
      "text/plain": [
       "8.573175398"
      ]
     },
     "execution_count": 23,
     "metadata": {},
     "output_type": "execute_result"
    }
   ],
   "source": [
    "# Test 3.1: Sorting array\n",
    "length = 100000000\n",
    "b_arr = rand(length) # between 0 and 1\n",
    "function sort_arr(r_arr)\n",
    "    sort(r_arr)\n",
    "    return nothing\n",
    "end\n",
    "t_3_1 = @elapsed sort_arr(b_arr)"
   ]
  },
  {
   "cell_type": "code",
   "execution_count": 49,
   "metadata": {},
   "outputs": [
    {
     "data": {
      "text/plain": [
       "4-element Array{Float64,1}:\n",
       " 0.008292943\n",
       " 9.482445e-6\n",
       " 3.227255398\n",
       " 8.573175398"
      ]
     },
     "execution_count": 49,
     "metadata": {},
     "output_type": "execute_result"
    }
   ],
   "source": [
    "t_all = [t_1_1, t_1_2, t_2_1, t_3_1]"
   ]
  },
  {
   "cell_type": "code",
   "execution_count": 52,
   "metadata": {},
   "outputs": [],
   "source": [
    "using DelimitedFiles\n",
    "writedlm(\"data/julia_times.txt\", t_all)\n",
    "writedlm(\"data/julia_times_t_1_details.txt\", t_1_3)\n",
    "# a = readdlm(\"test\")[1,:]"
   ]
  },
  {
   "cell_type": "code",
   "execution_count": null,
   "metadata": {},
   "outputs": [],
   "source": []
  }
 ],
 "metadata": {
  "@webio": {
   "lastCommId": null,
   "lastKernelId": null
  },
  "kernelspec": {
   "display_name": "Julia 1.4.0",
   "language": "julia",
   "name": "julia-1.4"
  },
  "language_info": {
   "file_extension": ".jl",
   "mimetype": "application/julia",
   "name": "julia",
   "version": "1.4.2"
  }
 },
 "nbformat": 4,
 "nbformat_minor": 4
}
