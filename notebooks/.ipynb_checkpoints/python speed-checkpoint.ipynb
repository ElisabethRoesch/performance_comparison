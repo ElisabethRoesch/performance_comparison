{
 "cells": [
  {
   "cell_type": "code",
   "execution_count": 23,
   "metadata": {},
   "outputs": [
    {
     "name": "stdout",
     "output_type": "stream",
     "text": [
      "3.965040922164917\n"
     ]
    }
   ],
   "source": [
    "# Test 1.1: Commulative addition - once\n",
    "import time\n",
    "a = 0.\n",
    "n_additions = 100000000\n",
    "def test(r):\n",
    "    for i in range(n_additions):\n",
    "        r+=1\n",
    "#   return r\n",
    "start = time.time()\n",
    "test(a)\n",
    "end = time.time()\n",
    "t = end - start\n",
    "print(t)"
   ]
  },
  {
   "cell_type": "code",
   "execution_count": 24,
   "metadata": {},
   "outputs": [
    {
     "name": "stdout",
     "output_type": "stream",
     "text": [
      "3.985591411590576\n"
     ]
    }
   ],
   "source": [
    "# Test 1.2: Commulative addition - multiple and average\n",
    "a = 0.\n",
    "n_runs = 10\n",
    "def tests(r):\n",
    "    for j in range(10):\n",
    "        test(r)\n",
    "start = time.time()\n",
    "tests(a)\n",
    "end = time.time()\n",
    "t = end - start\n",
    "avg_t = t /n_runs\n",
    "print(avg_t)"
   ]
  },
  {
   "cell_type": "code",
   "execution_count": null,
   "metadata": {},
   "outputs": [],
   "source": []
  }
 ],
 "metadata": {
  "kernelspec": {
   "display_name": "Python 3",
   "language": "python",
   "name": "python3"
  },
  "language_info": {
   "codemirror_mode": {
    "name": "ipython",
    "version": 3
   },
   "file_extension": ".py",
   "mimetype": "text/x-python",
   "name": "python",
   "nbconvert_exporter": "python",
   "pygments_lexer": "ipython3",
   "version": "3.8.2"
  }
 },
 "nbformat": 4,
 "nbformat_minor": 4
}
