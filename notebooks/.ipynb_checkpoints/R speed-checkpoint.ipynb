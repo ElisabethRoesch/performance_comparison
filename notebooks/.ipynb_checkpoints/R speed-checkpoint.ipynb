{
 "cells": [
  {
   "cell_type": "code",
   "execution_count": null,
   "metadata": {},
   "outputs": [],
   "source": [
    "# Test 1.1: Cumulative addition - once\n",
    "a = 0.\n",
    "n_additions = 100000000\n",
    "speedtest <- function(r, n_additions){\n",
    "    for (val in 1:n_additions)\n",
    "        {\n",
    "            r=r+1\n",
    "        }\n",
    "#   print(r)\n",
    "}\n",
    "start_time <- Sys.time()\n",
    "speedtest(a, n_additions)\n",
    "end_time <- Sys.time()\n",
    "end_time - start_time"
   ]
  },
  {
   "cell_type": "code",
   "execution_count": 6,
   "metadata": {},
   "outputs": [
    {
     "data": {
      "text/plain": [
       "Time difference of 1.720511 secs"
      ]
     },
     "metadata": {},
     "output_type": "display_data"
    }
   ],
   "source": [
    "# Test 1.2: Cumulative addition - multiple and average\n",
    "a = 0.\n",
    "n_runs = 10\n",
    "speedtests <- function(r, n_runs, n_additions){\n",
    "    for (j in 1:n_runs){\n",
    "        speedtest(a, n_additions)\n",
    "    }\n",
    "}\n",
    "start_time <- Sys.time()\n",
    "speedtests(a, n_runs, n_additions)\n",
    "end_time <- Sys.time()\n",
    "time = end_time - start_time\n",
    "avg_time = time/n_runs\n",
    "avg_time"
   ]
  },
  {
   "cell_type": "code",
   "execution_count": 28,
   "metadata": {},
   "outputs": [
    {
     "name": "stdout",
     "output_type": "stream",
     "text": [
      "Time difference of 25.38899 secs\n"
     ]
    }
   ],
   "source": [
    "# Test 2.1: Appending array\n",
    "a_arr <- vector()\n",
    "n_appends = 100000000\n",
    "speedtest_app <- function(r_arr, n_appends){\n",
    "    for (j in 1:n_appends){\n",
    "        r_arr[j] <- 1   \n",
    "    }\n",
    "#     print(r_arr)\n",
    "}\n",
    "   \n",
    "start_time <- Sys.time()\n",
    "speedtest_app(a_arr, n_appends)\n",
    "end_time <- Sys.time()\n",
    "t = end_time - start_time\n",
    "print(t)"
   ]
  },
  {
   "cell_type": "code",
   "execution_count": 12,
   "metadata": {},
   "outputs": [
    {
     "name": "stdout",
     "output_type": "stream",
     "text": [
      "Time difference of 0.864624 secs\n"
     ]
    }
   ],
   "source": [
    "# Test 3.1: Sorting array\n",
    "length = 10000000\n",
    "b_arr <- runif(length);\n",
    " # between 0 and 1\n",
    "start_time <- Sys.time()\n",
    "s = sort(b_arr);\n",
    "end_time <- Sys.time()\n",
    "t = end_time - start_time\n",
    "print(t)"
   ]
  }
 ],
 "metadata": {
  "@webio": {
   "lastCommId": null,
   "lastKernelId": null
  },
  "kernelspec": {
   "display_name": "R",
   "language": "R",
   "name": "ir"
  },
  "language_info": {
   "codemirror_mode": "r",
   "file_extension": ".r",
   "mimetype": "text/x-r-source",
   "name": "R",
   "pygments_lexer": "r",
   "version": "3.6.1"
  }
 },
 "nbformat": 4,
 "nbformat_minor": 4
}
