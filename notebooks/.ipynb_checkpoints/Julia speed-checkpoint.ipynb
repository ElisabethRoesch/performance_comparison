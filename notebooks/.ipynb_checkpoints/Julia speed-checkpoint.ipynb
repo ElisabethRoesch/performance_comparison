{
 "cells": [
  {
   "cell_type": "code",
   "execution_count": 21,
   "metadata": {},
   "outputs": [
    {
     "name": "stdout",
     "output_type": "stream",
     "text": [
      "  6.092415 seconds (300.00 M allocations: 5.961 GiB, 9.77% gc time)\n"
     ]
    }
   ],
   "source": [
    "# Test 1.1: Commulative addition - once\n",
    "a = 0.\n",
    "n_additions = 100000000\n",
    "function tester(r)\n",
    "    for i in 1:n_additions\n",
    "        r+=1\n",
    "    end\n",
    "#   print(r)\n",
    "end\n",
    "@time res = tester(a)\n",
    "res"
   ]
  },
  {
   "cell_type": "code",
   "execution_count": 22,
   "metadata": {},
   "outputs": [
    {
     "name": "stdout",
     "output_type": "stream",
     "text": [
      " 58.449297 seconds (3.00 G allocations: 59.605 GiB, 10.25% gc time)\n"
     ]
    }
   ],
   "source": [
    "# Test 1.2: Commulative addition - multiple and average\n",
    "n_runs = 10\n",
    "a = 0.\n",
    "function testers(r)\n",
    "    for j in 1:n_runs\n",
    "        tester(r)\n",
    "    end\n",
    "#     return r\n",
    "end\n",
    "@time testers(a)"
   ]
  },
  {
   "cell_type": "code",
   "execution_count": null,
   "metadata": {},
   "outputs": [],
   "source": []
  }
 ],
 "metadata": {
  "@webio": {
   "lastCommId": null,
   "lastKernelId": null
  },
  "kernelspec": {
   "display_name": "Julia 1.4.0",
   "language": "julia",
   "name": "julia-1.4"
  },
  "language_info": {
   "file_extension": ".jl",
   "mimetype": "application/julia",
   "name": "julia",
   "version": "1.4.2"
  }
 },
 "nbformat": 4,
 "nbformat_minor": 4
}
