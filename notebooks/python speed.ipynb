{
 "cells": [
  {
   "cell_type": "code",
   "execution_count": 5,
   "metadata": {},
   "outputs": [
    {
     "name": "stdout",
     "output_type": "stream",
     "text": [
      "4.117646932601929\n"
     ]
    }
   ],
   "source": [
    "# Test 1.1: Commulative addition - once\n",
    "import time\n",
    "a = 0.\n",
    "n_additions = 100000000\n",
    "def speedtest(r, n_additions):\n",
    "    for i in range(n_additions):\n",
    "        r+=1\n",
    "#   print(r)\n",
    "start = time.time()\n",
    "speedtest(a, n_additions)\n",
    "end = time.time()\n",
    "t = end - start\n",
    "print(t)"
   ]
  },
  {
   "cell_type": "code",
   "execution_count": 6,
   "metadata": {},
   "outputs": [
    {
     "name": "stdout",
     "output_type": "stream",
     "text": [
      "4.37079119682312\n"
     ]
    }
   ],
   "source": [
    "# Test 1.2: Commulative addition - multiple and average\n",
    "a = 0.\n",
    "n_runs = 10\n",
    "def speedtests(r, n_runs, n_additions):\n",
    "    for j in range(n_runs):\n",
    "        speedtest(r, n_additions)\n",
    "start = time.time()\n",
    "speedtests(a, n_runs, n_additions)\n",
    "end = time.time()\n",
    "t = end - start\n",
    "avg_t = t /n_runs\n",
    "print(avg_t)"
   ]
  },
  {
   "cell_type": "code",
   "execution_count": null,
   "metadata": {},
   "outputs": [],
   "source": []
  }
 ],
 "metadata": {
  "@webio": {
   "lastCommId": null,
   "lastKernelId": null
  },
  "kernelspec": {
   "display_name": "Python 3",
   "language": "python",
   "name": "python3"
  },
  "language_info": {
   "codemirror_mode": {
    "name": "ipython",
    "version": 3
   },
   "file_extension": ".py",
   "mimetype": "text/x-python",
   "name": "python",
   "nbconvert_exporter": "python",
   "pygments_lexer": "ipython3",
   "version": "3.8.2"
  }
 },
 "nbformat": 4,
 "nbformat_minor": 4
}
