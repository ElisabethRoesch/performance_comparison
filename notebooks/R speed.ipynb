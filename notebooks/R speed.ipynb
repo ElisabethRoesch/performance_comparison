{
 "cells": [
  {
   "cell_type": "code",
   "execution_count": 5,
   "metadata": {},
   "outputs": [
    {
     "data": {
      "text/plain": [
       "Time difference of 1.648726 secs"
      ]
     },
     "metadata": {},
     "output_type": "display_data"
    }
   ],
   "source": [
    "# Test 1.1: Commulative addition - once\n",
    "a = 0.\n",
    "n_additions = 100000000\n",
    "speedtest <- function(r, n_additions){\n",
    "    for (val in 1:n_additions)\n",
    "        {\n",
    "            r=r+1\n",
    "        }\n",
    "#   print(r)\n",
    "}\n",
    "start_time <- Sys.time()\n",
    "speedtest(a, n_additions)\n",
    "end_time <- Sys.time()\n",
    "end_time - start_time"
   ]
  },
  {
   "cell_type": "code",
   "execution_count": 6,
   "metadata": {},
   "outputs": [
    {
     "data": {
      "text/plain": [
       "Time difference of 1.720511 secs"
      ]
     },
     "metadata": {},
     "output_type": "display_data"
    }
   ],
   "source": [
    "# Test 1.2: Commulative addition - multiple and average\n",
    "a = 0.\n",
    "n_runs = 10\n",
    "speedtests <- function(r, n_runs, n_additions){\n",
    "    for (j in 1:n_runs){\n",
    "        speedtest(a, n_additions)\n",
    "    }\n",
    "}\n",
    "start_time <- Sys.time()\n",
    "speedtests(a, n_runs, n_additions)\n",
    "end_time <- Sys.time()\n",
    "time = end_time - start_time\n",
    "avg_time = time/n_runs\n",
    "avg_time"
   ]
  },
  {
   "cell_type": "code",
   "execution_count": null,
   "metadata": {},
   "outputs": [],
   "source": []
  }
 ],
 "metadata": {
  "@webio": {
   "lastCommId": null,
   "lastKernelId": null
  },
  "kernelspec": {
   "display_name": "R",
   "language": "R",
   "name": "ir"
  },
  "language_info": {
   "codemirror_mode": "r",
   "file_extension": ".r",
   "mimetype": "text/x-r-source",
   "name": "R",
   "pygments_lexer": "r",
   "version": "3.6.1"
  }
 },
 "nbformat": 4,
 "nbformat_minor": 4
}
