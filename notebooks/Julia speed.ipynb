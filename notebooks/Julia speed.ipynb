{
 "cells": [
  {
   "cell_type": "code",
   "execution_count": 14,
   "metadata": {},
   "outputs": [
    {
     "name": "stdout",
     "output_type": "stream",
     "text": [
      "  0.004674 seconds (15.90 k allocations: 867.369 KiB)\n"
     ]
    }
   ],
   "source": [
    "# Test 1.1: Commulative addition - once\n",
    "a = 0.\n",
    "n_additions = 100000000\n",
    "function speedtest(r, n_additions)\n",
    "    for i in 1:n_additions\n",
    "        r+=1\n",
    "    end\n",
    "#    print(r) \n",
    "end\n",
    "@time speedtest(a, n_additions)"
   ]
  },
  {
   "cell_type": "code",
   "execution_count": 15,
   "metadata": {},
   "outputs": [
    {
     "name": "stdout",
     "output_type": "stream",
     "text": [
      "  0.005106 seconds (17.37 k allocations: 929.838 KiB)\n"
     ]
    }
   ],
   "source": [
    "# Test 1.2: Commulative addition - multiple and average\n",
    "n_runs = 10\n",
    "a = 0.\n",
    "function speedtests(r, n_runs, n_additions)\n",
    "    for j in 1:n_runs\n",
    "        speedtest(r, n_additions)\n",
    "    end\n",
    "#    return r\n",
    "end\n",
    "@time speedtests(a, n_runs, n_additions)"
   ]
  },
  {
   "cell_type": "code",
   "execution_count": null,
   "metadata": {},
   "outputs": [],
   "source": []
  }
 ],
 "metadata": {
  "@webio": {
   "lastCommId": null,
   "lastKernelId": null
  },
  "kernelspec": {
   "display_name": "Julia 1.4.0",
   "language": "julia",
   "name": "julia-1.4"
  },
  "language_info": {
   "file_extension": ".jl",
   "mimetype": "application/julia",
   "name": "julia",
   "version": "1.4.2"
  }
 },
 "nbformat": 4,
 "nbformat_minor": 4
}
